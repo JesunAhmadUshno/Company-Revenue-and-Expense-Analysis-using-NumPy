{
 "cells": [
  {
   "cell_type": "code",
   "execution_count": 3,
   "id": "85eda71a-6543-4145-9f5a-7646ff37c1f9",
   "metadata": {},
   "outputs": [],
   "source": [
    "import numpy as np\n",
    "import csv\n",
    "\n",
    "# Generate random revenue and expenses data\n",
    "months = 12\n",
    "revenue = np.random.randint(10000, 100000, size=months)\n",
    "expenses = np.random.randint(5000, 70000, size=months)\n",
    "\n",
    "# Save data to a CSV file\n",
    "with open('revenue_expenses_data_1.csv', mode='w') as csv_file:\n",
    "    fieldnames = ['Month', 'Revenue', 'Expenses']\n",
    "    writer = csv.DictWriter(csv_file, fieldnames=fieldnames)\n",
    "\n",
    "    writer.writeheader()\n",
    "    for i in range(months):\n",
    "        writer.writerow({'Month': i+1, 'Revenue': revenue[i], 'Expenses': expenses[i]})\n"
   ]
  },
  {
   "cell_type": "code",
   "execution_count": null,
   "id": "bf70d105-efcb-4870-b6fe-ebddaca87b76",
   "metadata": {},
   "outputs": [],
   "source": []
  }
 ],
 "metadata": {
  "kernelspec": {
   "display_name": "Python 3 (ipykernel)",
   "language": "python",
   "name": "python3"
  },
  "language_info": {
   "codemirror_mode": {
    "name": "ipython",
    "version": 3
   },
   "file_extension": ".py",
   "mimetype": "text/x-python",
   "name": "python",
   "nbconvert_exporter": "python",
   "pygments_lexer": "ipython3",
   "version": "3.10.9"
  }
 },
 "nbformat": 4,
 "nbformat_minor": 5
}
