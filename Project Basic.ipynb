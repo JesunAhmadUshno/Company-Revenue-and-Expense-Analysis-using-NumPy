{
 "cells": [
  {
   "cell_type": "markdown",
   "id": "fb68b410-ed05-4cd4-8d32-0d7cfc2af04f",
   "metadata": {},
   "source": [
    "##Now, let's use NumPy to perform some basic analysis on this data:\n",
    "\n",
    "##Calculate the total revenue and expenses for the year:"
   ]
  },
  {
   "cell_type": "code",
   "execution_count": 1,
   "id": "643bb067-c97c-4e63-804b-2af07b7cfd63",
   "metadata": {},
   "outputs": [],
   "source": [
    "import numpy as np\n"
   ]
  },
  {
   "cell_type": "markdown",
   "id": "f6df42de-2021-46f8-a278-c647d45dc509",
   "metadata": {},
   "source": [
    "##Next, let's create two arrays for the monthly revenue and expenses of the company:"
   ]
  },
  {
   "cell_type": "code",
   "execution_count": 2,
   "id": "a47f113d-e0e4-4572-9254-abc04584d863",
   "metadata": {},
   "outputs": [],
   "source": [
    "revenue = np.array([10000, 12000, 9000, 14000, 8000, 11000, 15000, 17000, 12000, 13000, 14000, 16000])\n",
    "expenses = np.array([8000, 9000, 7000, 10000, 6000, 9000, 12000, 14000, 9000, 10000, 10000, 12000])"
   ]
  },
  {
   "cell_type": "markdown",
   "id": "c1b54a21-ca23-416e-a0ff-b4fe6ed90614",
   "metadata": {},
   "source": [
    "Now, let's use NumPy to perform some basic analysis on this data:\n",
    "\n",
    "Calculate the total revenue and expenses for the year:"
   ]
  },
  {
   "cell_type": "code",
   "execution_count": 3,
   "id": "8f1ae08e-3125-4e96-b28b-3656b3e2380e",
   "metadata": {},
   "outputs": [],
   "source": [
    "total_revenue = np.sum(revenue)\n",
    "total_expenses = np.sum(expenses)\n"
   ]
  },
  {
   "cell_type": "markdown",
   "id": "c2b57b0a-e78b-42ff-8725-e415f92ddf73",
   "metadata": {},
   "source": [
    "Calculate the profit for the year:"
   ]
  },
  {
   "cell_type": "code",
   "execution_count": 4,
   "id": "59493a6a-e151-40b0-87ac-c8f04f9777d0",
   "metadata": {},
   "outputs": [],
   "source": [
    "profit = total_revenue - total_expenses\n"
   ]
  },
  {
   "cell_type": "markdown",
   "id": "96c72d82-5405-4516-9136-55be8b362dd8",
   "metadata": {},
   "source": [
    "Calculate the average monthly revenue and expenses:"
   ]
  },
  {
   "cell_type": "code",
   "execution_count": 5,
   "id": "f035fda3-654c-4c4d-a652-e801e9a97387",
   "metadata": {},
   "outputs": [],
   "source": [
    "average_revenue = np.mean(revenue)\n",
    "average_expenses = np.mean(expenses)\n"
   ]
  },
  {
   "cell_type": "markdown",
   "id": "45ac46b9-1b57-4c95-b46a-93f41770e2a2",
   "metadata": {},
   "source": [
    "Calculate the standard deviation of monthly revenue and expenses:"
   ]
  },
  {
   "cell_type": "code",
   "execution_count": 6,
   "id": "1db4bc13-8f3f-467f-8957-f5b99c29dc74",
   "metadata": {},
   "outputs": [],
   "source": [
    "std_revenue = np.std(revenue)\n",
    "std_expenses = np.std(expenses)\n"
   ]
  },
  {
   "cell_type": "markdown",
   "id": "1f185b67-e9aa-45da-b06c-af1d18f71a33",
   "metadata": {},
   "source": [
    "Determine the month with the highest and lowest revenue:"
   ]
  },
  {
   "cell_type": "code",
   "execution_count": 7,
   "id": "cb5e0553-321a-47e8-9017-0fa19c8b0a26",
   "metadata": {},
   "outputs": [],
   "source": [
    "max_revenue_month = np.argmax(revenue)\n",
    "min_revenue_month = np.argmin(revenue)\n"
   ]
  },
  {
   "cell_type": "markdown",
   "id": "357fb25e-5bf1-4d72-b16a-e4df87b3b369",
   "metadata": {},
   "source": [
    "Determine the month with the highest and lowest expenses:"
   ]
  },
  {
   "cell_type": "code",
   "execution_count": null,
   "id": "8e66dc2c-f3a8-4e0f-8b0c-fd861b9ada84",
   "metadata": {},
   "outputs": [],
   "source": []
  },
  {
   "cell_type": "code",
   "execution_count": null,
   "id": "e189c045-e1e9-49e2-b7f6-a118b0e63dac",
   "metadata": {},
   "outputs": [],
   "source": []
  }
 ],
 "metadata": {
  "kernelspec": {
   "display_name": "Python 3 (ipykernel)",
   "language": "python",
   "name": "python3"
  },
  "language_info": {
   "codemirror_mode": {
    "name": "ipython",
    "version": 3
   },
   "file_extension": ".py",
   "mimetype": "text/x-python",
   "name": "python",
   "nbconvert_exporter": "python",
   "pygments_lexer": "ipython3",
   "version": "3.10.9"
  }
 },
 "nbformat": 4,
 "nbformat_minor": 5
}
